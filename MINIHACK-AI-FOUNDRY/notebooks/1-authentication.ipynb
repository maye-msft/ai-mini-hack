{
 "cells": [
  {
   "cell_type": "markdown",
   "id": "9c198c79",
   "metadata": {},
   "source": [
    "# Authentication with DefaultAzureCredential\n",
    "\n",
    "## Overview\n",
    "\n",
    "DefaultAzureCredential is the recommended way to handle authentication in Azure applications. It provides a streamlined authentication flow by trying multiple credential types in sequence until one succeeds. This notebook will help you troubleshoot common authentication issues and ensure proper setup.\n",
    "\n",
    "## Understanding DefaultAzureCredential\n",
    "\n",
    "DefaultAzureCredential attempts authentication methods in the following order:\n",
    "\n",
    "1. Environment Credentials\n",
    "2. Workload Identity (in Kubernetes)\n",
    "3. Managed Identity\n",
    "4. Azure CLI Credentials\n",
    "5. Azure PowerShell Credentials\n",
    "6. Visual Studio Code Credentials\n",
    "7. Interactive Browser Authentication (as fallback)\n",
    "\n",
    "## Prerequisites\n",
    "\n",
    "Ensure you have the following installed:\n",
    "- Azure CLI\n",
    "- Azure Developer CLI (optional)\n",
    "- Required role assignments (Azure AI Developer)\n",
    "- Jupyter Notebook environment - kernel configured to use Python 3.8 or later\n",
    "\n",
    "## Authentication Methods\n",
    "\n",
    "### 1. Using Azure CLI (Recommended for Local Development)"
   ]
  },
  {
   "cell_type": "code",
   "execution_count": null,
   "id": "74c8ba60",
   "metadata": {},
   "outputs": [],
   "source": [
    "# Install required packages\n",
    "!pip install azure-identity"
   ]
  },
  {
   "cell_type": "markdown",
   "id": "18f7cb3d",
   "metadata": {},
   "source": [
    "# First, we'll authenticate using Azure CLI\n",
    "This is the recommended approach for local development.\n",
    "\n",
    "When you run the code below, you will be redirected to:\n",
    "- Either the Azure portal in your browser to complete the login \n",
    "- Or use Windows login if you're already signed in to your machine\n",
    "\n",
    "The code will:\n",
    "1. Load environment variables from .env file, including the TENANT_ID\n",
    "2. Use Azure CLI to log in to your specific tenant  \n",
    "3. Test authentication by attempting to get a token\n"
   ]
  },
  {
   "cell_type": "code",
   "execution_count": null,
   "id": "23fe28d8",
   "metadata": {},
   "outputs": [],
   "source": [
    "# Import required packages\n",
    "\n",
    "from dotenv import load_dotenv\n",
    "import os\n",
    "from pathlib import Path\n",
    "# Get the path to the .env file which is in the parent directory\n",
    "notebook_path = Path().absolute()  # Get absolute path of current notebook\n",
    "parent_dir = notebook_path.parent  # Get parent directory\n",
    "load_dotenv(parent_dir / '.env')  # Load environment variables from .env file\n",
    "\n",
    "# Get tenant ID from environment variable\n",
    "tenant_id = os.getenv(\"TENANT_ID\")\n",
    "subscription_id = os.getenv(\"SUBSCRIPTION_ID\")\n",
    "\n",
    "\n",
    "# Azure login with specific tenant\n",
    "!az config set core.disable_confirm_prompt=true\n",
    "!az login --tenant {tenant_id} <<< \"\\n\"\n",
    "\n",
    "if subscription_id:\n",
    "    # Set the subscription\n",
    "    !az account set --subscription {subscription_id}\n",
    "    print(f\"✓ Successfully set subscription: {subscription_id}\")\n",
    "else:\n",
    "    print(\"⚠️ Could not get subscription ID from PROJECT_CONNECTION_STRING\")\n"
   ]
  },
  {
   "cell_type": "markdown",
   "id": "44c3458a",
   "metadata": {},
   "source": [
    "# Next, we'll test the authentication by attempting to get a token using DefaultAzureCredential\n",
    "\n",
    "The code below will:\n",
    "1. Create a DefaultAzureCredential instance\n",
    "2. Try to get a token for Azure Cognitive Services\n",
    "3. Print success message if token is acquired\n",
    "\n",
    ">Note: You may see some warning/error messages as it tries different authentication methods - \n",
    ">this is normal and can be ignored as long as you see \"Successfully acquired token!\" at the end\n"
   ]
  },
  {
   "cell_type": "code",
   "execution_count": null,
   "id": "f9140263",
   "metadata": {},
   "outputs": [],
   "source": [
    "# Then use DefaultAzureCredential in your code\n",
    "from azure.identity import DefaultAzureCredential\n",
    "from azure.core.credentials import AccessToken\n",
    "import logging\n",
    "\n",
    "# Enable detailed logging\n",
    "logging.basicConfig(level=logging.CRITICAL)\n",
    "logging.getLogger('azure.identity').setLevel(logging.CRITICAL)\n",
    "logging.getLogger('azure.core').setLevel(logging.CRITICAL)\n",
    "\n",
    "try:\n",
    "    credential = DefaultAzureCredential()\n",
    "    # Test token acquisition\n",
    "    token = credential.get_token(\"https://cognitiveservices.azure.com/.default\")\n",
    "    print(\"Successfully acquired token!\")\n",
    "except Exception as e:\n",
    "    print(f\"Authentication failed: {str(e)}\")"
   ]
  }
 ],
 "metadata": {
  "kernelspec": {
   "display_name": "Python 3",
   "language": "python",
   "name": "python3"
  },
  "language_info": {
   "codemirror_mode": {
    "name": "ipython",
    "version": 3
   },
   "file_extension": ".py",
   "mimetype": "text/x-python",
   "name": "python",
   "nbconvert_exporter": "python",
   "pygments_lexer": "ipython3",
   "version": "3.11.12"
  }
 },
 "nbformat": 4,
 "nbformat_minor": 5
}
