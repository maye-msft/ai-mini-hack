{
 "cells": [
  {
   "cell_type": "markdown",
   "metadata": {},
   "source": [
    "# Create a Simple AI Agent\n",
    "\n",
    "We'll introduce you to AI agents by creating a simple agent that will create a bar graph based on data that we give to it. "
   ]
  },
  {
   "cell_type": "markdown",
   "metadata": {},
   "source": [
    "## Connect to your Azure AI Foundry project"
   ]
  },
  {
   "cell_type": "code",
   "execution_count": null,
   "metadata": {},
   "outputs": [],
   "source": [
    "import os\n",
    "from dotenv import load_dotenv\n",
    "\n",
    "\n",
    "from azure.ai.projects import AIProjectClient\n",
    "from azure.identity import DefaultAzureCredential\n",
    "from azure.ai.agents.models import CodeInterpreterTool\n",
    "\n",
    "load_dotenv(override=True)  # Load environment variables from .env file\n",
    "\n",
    "try:\n",
    "    project_client = AIProjectClient(\n",
    "        credential=DefaultAzureCredential(),\n",
    "        endpoint=os.environ[\"AIPROJECT_ENDPOINT\"],\n",
    "    )\n",
    "    print(\"✓ Successfully initialized AIProjectClient\")\n",
    "except Exception as e:\n",
    "    print(f\"× Error initializing client: {str(e)}\")"
   ]
  },
  {
   "cell_type": "markdown",
   "metadata": {},
   "source": [
    "## Create the simple AI Agent"
   ]
  },
  {
   "cell_type": "code",
   "execution_count": null,
   "metadata": {},
   "outputs": [],
   "source": [
    "from pathlib import Path\n",
    "from IPython.display import Image, display\n",
    "model_deployment_name = os.getenv(\"MODEL_DEPLOYMENT_NAME\")\n",
    "\n",
    "# Create an instance of the CodeInterpreterTool, which is responsible for generating the bar chart\n",
    "code_interpreter = CodeInterpreterTool()\n",
    "\n",
    "# The CodeInterpreterTool needs to be included in creation of the agent so that it can be used\n",
    "agent = project_client.agents.create_agent(\n",
    "    model=model_deployment_name,\n",
    "    name=\"my-agent-barchart\",\n",
    "    instructions=\"You are a helpful agent.\",\n",
    "    tools=code_interpreter.definitions,\n",
    "    tool_resources=code_interpreter.resources,\n",
    ")\n",
    "print(f\"Created agent, agent ID: {agent.id}\")\n",
    "\n",
    "# Create a thread which is a conversation session between an agent and a user.\n",
    "thread = project_client.agents.threads.create()\n",
    "print(f\"Created thread, thread ID: {thread.id}\")\n"
   ]
  },
  {
   "cell_type": "markdown",
   "metadata": {},
   "source": [
    "\n",
    "## Generate a prompt and send it to the agent\n",
    "\n",
    "In the next cell, we'll create a prompt containing fruit sales data and ask the agent to generate a grouped bar chart. The prompt will specify the chart requirements, including file name, chart type, colors, title, legend, and y-axis formatting.\n",
    "\n"
   ]
  },
  {
   "cell_type": "code",
   "execution_count": null,
   "metadata": {},
   "outputs": [],
   "source": [
    "\n",
    "\n",
    "prompt = \"Could you please create a bar chart for the following fruit sales data and \\\n",
    "provide the file to me? Name the file as fruit-sales-quarterly.png. \\\n",
    "Here is the data: \\\n",
    "Fruit Type,Q1 Sales,Q2 Sales,Q3 Sales,Q4 Sales \\\n",
    "Apples,15000,18000,22000,19000 \\\n",
    "Oranges,12000,14000,16000,17000 \\\n",
    "Bananas,8000,9500,11000,12500 \\\n",
    "Grapes,6000,7500,9000,8500 \\\n",
    "Strawberries,4500,6000,8500,5000 \\\n",
    "Pineapples,3000,3500,4200,4800 \\\n",
    "Please create a grouped bar chart showing quarterly sales for each fruit type, \\\n",
    "with different colors for each quarter. Add a title 'Quarterly Fruit Sales Report' \\\n",
    "and include a legend. Format the y-axis to show sales values in thousands (K).\"\n",
    "\n",
    "# Create a message, with the prompt being the message content that is sent to the model\n",
    "message = project_client.agents.messages.create(\n",
    "    thread_id=thread.id,\n",
    "    role=\"user\",\n",
    "    content=prompt,\n",
    ")\n",
    "print(f\"Created message, message ID: {message.id}\")\n",
    "\n",
    "# Run the agent to process tne message in the thread\n",
    "run = project_client.agents.runs.create_and_process(thread_id=thread.id, agent_id=agent.id)\n",
    "print(f\"Run finished with status: {run.status}\")\n",
    "\n",
    "if run.status == \"failed\":\n",
    "    # Check if you got \"Rate limit is exceeded.\", then you want to increase the token limit\n",
    "    print(f\"Run failed: {run.last_error}\")\n"
   ]
  },
  {
   "cell_type": "markdown",
   "metadata": {},
   "source": [
    "\n",
    "## Retrieve and display the generated bar chart\n",
    "\n",
    "The following cell retrieves all messages from the conversation thread, extracts the generated bar chart image from the agent's response, and displays it directly in the notebook.\n"
   ]
  },
  {
   "cell_type": "code",
   "execution_count": null,
   "metadata": {},
   "outputs": [],
   "source": [
    "# Get all messages from the thread\n",
    "messages = project_client.agents.messages.list(thread_id=thread.id)\n",
    "print(f\"Messages: {messages}\")\n",
    "\n",
    "# Generate an image file for the bar chart\n",
    "for message in messages:\n",
    "    if hasattr(message, \"file_path_annotations\"):\n",
    "        for file_path_annotation in message.file_path_annotations:\n",
    "            file_name = Path(file_path_annotation.text).name\n",
    "            file_id = file_path_annotation.file_path.file_id\n",
    "            \n",
    "            # ✅ CORRECTED: Handle generator and collect all chunks\n",
    "            file_content_generator = project_client.agents.files.get_content(file_id)\n",
    "            file_content = b''.join(file_content_generator)\n",
    "            \n",
    "            # Display the image directly in the notebook\n",
    "            print(f\"Generated chart (ID: {file_id}):\")\n",
    "            display(Image(data=file_content))"
   ]
  }
 ],
 "metadata": {
  "kernelspec": {
   "display_name": "Python 3",
   "language": "python",
   "name": "python3"
  },
  "language_info": {
   "codemirror_mode": {
    "name": "ipython",
    "version": 3
   },
   "file_extension": ".py",
   "mimetype": "text/x-python",
   "name": "python",
   "nbconvert_exporter": "python",
   "pygments_lexer": "ipython3",
   "version": "3.11.12"
  }
 },
 "nbformat": 4,
 "nbformat_minor": 2
}
